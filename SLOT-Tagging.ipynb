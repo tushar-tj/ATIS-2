{
 "cells": [
  {
   "cell_type": "markdown",
   "metadata": {},
   "source": [
    "# AIM\n",
    "\n",
    "In this notebook we would be training an LSTM model for slot tagging on ATIS-2 dataset. We would be using test dataset for evaluating our modelling as well. You can find the sample of data available in the data folder, but due to licensing issue I cannot post the complete dataset over there.\n",
    "\n",
    "<img src=\"\">"
   ]
  },
  {
   "cell_type": "markdown",
   "metadata": {},
   "source": [
    "## Loading the required libraries for the task"
   ]
  },
  {
   "cell_type": "code",
   "execution_count": 1,
   "metadata": {},
   "outputs": [
    {
     "name": "stderr",
     "output_type": "stream",
     "text": [
      "Using TensorFlow backend.\n"
     ]
    },
    {
     "data": {
      "text/plain": [
       "<torch._C.Generator at 0x7f1aae31d890>"
      ]
     },
     "execution_count": 1,
     "metadata": {},
     "output_type": "execute_result"
    }
   ],
   "source": [
    "import pandas as pd\n",
    "import numpy as np\n",
    "import torch\n",
    "import torch.nn as nn\n",
    "import torch.nn.functional as F\n",
    "import torch.optim as optim\n",
    "from torch.autograd import Variable\n",
    "from sklearn.model_selection import train_test_split\n",
    "from keras.preprocessing.sequence import pad_sequences\n",
    "from sklearn_crfsuite.metrics import flat_classification_report, flat_f1_score\n",
    "import matplotlib.pyplot as plt\n",
    "\n",
    "torch.manual_seed(1)"
   ]
  },
  {
   "cell_type": "markdown",
   "metadata": {},
   "source": [
    "## Loading train, validation and test dataset"
   ]
  },
  {
   "cell_type": "code",
   "execution_count": 62,
   "metadata": {},
   "outputs": [],
   "source": [
    "# Here we have written a quick function to load the data. \n",
    "# The function loads the data into a dataframe, seperating the Query,Tags for each of \n",
    "# the word in the tag and Label which is the intent of the query\n",
    "\n",
    "def load_data(file):\n",
    "    with open(file, 'r') as f:\n",
    "        data = f.readlines()\n",
    "    \n",
    "    query, tags, label = [], [], []\n",
    "    for dp in data:\n",
    "        query.append(dp.split(\"\\t\")[0].strip().split(\" \"))\n",
    "        tags.append(dp.split(\"\\t\")[1].strip().split(\" \")[0:-1])\n",
    "        label.append(dp.split(\"\\t\")[1].strip().split(\" \")[-1])\n",
    "       \n",
    "    df = pd.DataFrame({\"Query\": query, \"Tags\": tags, \"Label\": label})\n",
    "    \n",
    "    return df\n",
    "\n",
    "# Load triaing data\n",
    "df_1 = load_data(\"data/atis.train.w-intent.iob\")\n",
    "df_2 = load_data(\"data/atis-2.train.w-intent.iob\")\n",
    "df_train = pd.concat([df_1, df_2])\n",
    "\n",
    "# Load validation and test data\n",
    "df_val = load_data(\"data/atis-2.dev.w-intent.iob\")\n",
    "df_test = load_data(\"data/atis.test.w-intent.iob\")"
   ]
  },
  {
   "cell_type": "markdown",
   "metadata": {},
   "source": [
    "## Supporting Functions"
   ]
  },
  {
   "cell_type": "code",
   "execution_count": 63,
   "metadata": {},
   "outputs": [],
   "source": [
    "# train word to index dictionary, tag to index dictionary, \n",
    "# index to word dictionary and index to tag dictionary from the training data  \n",
    "\n",
    "def train_dictoinary(df):\n",
    "    word_to_ix, tag_to_ix = {'<PAD>': 0}, {'<PAD>': 0}\n",
    "    ix_to_words, ix_to_tag = {0: '<PAD>'},  {0: '<PAD>'}\n",
    "    \n",
    "    for index, dp in df.iterrows():\n",
    "        for word in dp.Query:\n",
    "            if word not in word_to_ix:\n",
    "                idx = len(word_to_ix)\n",
    "                word_to_ix[word] = idx\n",
    "                ix_to_words[idx] = word\n",
    "\n",
    "        for tag in dp.Tags:\n",
    "            if tag not in tag_to_ix:\n",
    "                idx = len(tag_to_ix)\n",
    "                tag_to_ix[tag] = idx\n",
    "                ix_to_tag[idx] = tag\n",
    "    \n",
    "    return word_to_ix, tag_to_ix, ix_to_words, ix_to_tag\n",
    "\n",
    "word_to_ix, tag_to_ix, ix_to_words, ix_to_tag = train_dictoinary(df_train)"
   ]
  },
  {
   "cell_type": "code",
   "execution_count": 64,
   "metadata": {},
   "outputs": [],
   "source": [
    "# convert sequence of words to its corresponding sequence of indexes\n",
    "\n",
    "def prepare_sequence(seq, to_ix):\n",
    "    #idxs = [to_ix[w] for w in seq if not w == \"EOS\" and w in to_ix else 0.0]\n",
    "    idxs = [to_ix[w] if w in to_ix else 0 for w in seq if not w == \"EOS\"]\n",
    "    return idxs"
   ]
  },
  {
   "cell_type": "code",
   "execution_count": 65,
   "metadata": {},
   "outputs": [],
   "source": [
    "# create batches of desired size for faster training, this would return a list of \n",
    "# dataframes where each dataframe is of the length of batch defined\n",
    "\n",
    "def create_batches(df, batch_size=64):\n",
    "    start_index, end_index = 0, 0 \n",
    "    batches = []\n",
    "    \n",
    "    while True:\n",
    "        start_index = end_index\n",
    "        if end_index + batch_size > len(df):\n",
    "            end_index = len(df)\n",
    "        else:\n",
    "            end_index = end_index + batch_size\n",
    "            \n",
    "        sentences, tags, sentences_len = [], [], []\n",
    "        for index, dp in df[start_index:end_index].iterrows():\n",
    "            sentences.append(prepare_sequence(dp.Query, word_to_ix))\n",
    "            tags.append(prepare_sequence(dp.Tags, tag_to_ix))\n",
    "            sentences_len.append(len(dp.Query))\n",
    "        \n",
    "        sentences_padded = pad_sequences(sentences, maxlen=48, padding='post')\n",
    "        tags_padded = pad_sequences(tags, maxlen=48, padding='post')\n",
    "        \n",
    "        df_batch = pd.DataFrame({\"Query\": torch.tensor(sentences_padded, dtype=torch.long), \\\n",
    "                                 \"Tags\": torch.tensor(tags_padded, dtype=torch.long), \\\n",
    "                                 \"Query_len\": sentences_len})\n",
    "        \n",
    "        batches.append(df_batch)\n",
    "        \n",
    "        if end_index == len(df):\n",
    "            break\n",
    "            \n",
    "    return batches\n",
    "\n",
    "df_train = create_batches(df_train, batch_size=64)\n",
    "df_val = create_batches(df_val, batch_size=len(df_val))"
   ]
  },
  {
   "cell_type": "code",
   "execution_count": 38,
   "metadata": {},
   "outputs": [],
   "source": [
    "# Predict the tags of a single sentence.\n",
    "\n",
    "def predict_single(sentence, ids_to_tags, model):\n",
    "    # print (sentence)\n",
    "    sentences_split = [prepare_sequence(sentence, word_to_ix)]\n",
    "    sentences_padded = pad_sequences(sentences_split, maxlen=48, padding='post')\n",
    "    sentences_len = [len(sentence)]\n",
    "    \n",
    "    tag_scores = model(torch.tensor(sentences_padded, dtype=torch.long), sentences_len)\n",
    "    tag_scores = tag_scores.view(1, 48, -1)\n",
    "    output = []\n",
    "    value, tag_indexes = tag_scores[0].max(1)\n",
    "    for i in range(len(sentence)-1):\n",
    "        output.append(ids_to_tags[tag_indexes[i].item()])\n",
    "    \n",
    "    # print (\"Tags --> {0}\".format(\" \".join(output)))\n",
    "        \n",
    "    return output"
   ]
  },
  {
   "cell_type": "markdown",
   "metadata": {},
   "source": [
    "## Training Models"
   ]
  },
  {
   "cell_type": "code",
   "execution_count": 13,
   "metadata": {},
   "outputs": [],
   "source": [
    "# Build a class of LSTM for training a unidirectional slot training model\n",
    "\n",
    "class SlotTagger_LSTM(nn.Module):   \n",
    "    def __init__(self, word_to_ix, tag_to_ix, lstm_layers=3, lstm_hidden_units=100, embedding_dim=20, dropout=0.2):\n",
    "        super(SlotTagger_LSTM, self).__init__()\n",
    "        self.word_to_ix = word_to_ix\n",
    "        self.tag_to_ix = tag_to_ix\n",
    "        \n",
    "        self.word_count = len(self.word_to_ix)\n",
    "        self.embedding_dim = embedding_dim\n",
    "        self.lstm_layers = lstm_layers\n",
    "        self.lstm_hidden_units = lstm_hidden_units\n",
    "        self.output_dim = len(self.tag_to_ix)\n",
    "        self.dropout = dropout\n",
    "        \n",
    "        padding_idx = self.word_to_ix['<PAD>']\n",
    "        self.word_embedding = nn.Embedding(num_embeddings=self.word_count, \\\n",
    "                                           embedding_dim=self.embedding_dim, \\\n",
    "                                           padding_idx=padding_idx)\n",
    "\n",
    "        self.lstm = nn.LSTM(input_size=self.embedding_dim, \\\n",
    "                            hidden_size=self.lstm_hidden_units, \\\n",
    "                            num_layers=self.lstm_layers, \\\n",
    "                            dropout = self.dropout, \\\n",
    "                            batch_first=True)\n",
    "\n",
    "        self.linear = nn.Linear(self.lstm_hidden_units, self.output_dim)\n",
    "\n",
    "        \n",
    "    def init_hidden(self, batch_size):\n",
    "        w = torch.Tensor(self.lstm_layers, batch_size, self.lstm_hidden_units)\n",
    "        h0 = nn.init.xavier_uniform_(w, gain=nn.init.calculate_gain('relu'))\n",
    "        \n",
    "        w = torch.Tensor(self.lstm_layers, batch_size, self.lstm_hidden_units)\n",
    "        c0 = nn.init.xavier_uniform_(w, gain=nn.init.calculate_gain('relu'))\n",
    "\n",
    "        return (h0, c0)\n",
    "\n",
    "    def forward(self, sentences, sen_lengths):\n",
    "        batch_size, seq_len = sentences.size()\n",
    "    \n",
    "        self.hidden = self.init_hidden(batch_size)\n",
    "\n",
    "        sentences = self.word_embedding(sentences)\n",
    "        \n",
    "        sentences = torch.nn.utils.rnn.pack_padded_sequence(sentences, sen_lengths, batch_first=True)\n",
    "        lstm_output, _ = self.lstm(sentences, self.hidden)\n",
    "\n",
    "        lstm_output, _ = torch.nn.utils.rnn.pad_packed_sequence(lstm_output, total_length=seq_len, batch_first=True)\n",
    "\n",
    "        lstm_output = lstm_output.contiguous()\n",
    "        lstm_output = lstm_output.view(-1, lstm_output.shape[2])\n",
    "\n",
    "        output = self.linear(lstm_output)\n",
    "        return F.log_softmax(output, dim=1)\n",
    "\n",
    "model_LSTM = SlotTagger_LSTM(word_to_ix, tag_to_ix)\n",
    "loss_function = nn.NLLLoss(ignore_index=0)\n",
    "optimizer_LSTM = optim.SGD(model_LSTM.parameters(), lr=0.1)"
   ]
  },
  {
   "cell_type": "code",
   "execution_count": 14,
   "metadata": {},
   "outputs": [],
   "source": [
    "# Build a class of LSTM for training a bidirectional slot training model\n",
    "\n",
    "class SlotTagger_BiLSTM(nn.Module):   \n",
    "    def __init__(self, word_to_ix, tag_to_ix, lstm_layers=3, lstm_hidden_units=100, embedding_dim=20, dropout=0.2):\n",
    "        super(SlotTagger_BiLSTM, self).__init__()\n",
    "        self.word_to_ix = word_to_ix\n",
    "        self.tag_to_ix = tag_to_ix\n",
    "        \n",
    "        self.word_count = len(self.word_to_ix)\n",
    "        self.embedding_dim = embedding_dim\n",
    "        self.lstm_layers = lstm_layers\n",
    "        self.lstm_hidden_units = lstm_hidden_units\n",
    "        self.output_dim = len(self.tag_to_ix)\n",
    "        self.dropout = dropout\n",
    "        \n",
    "        padding_idx = self.word_to_ix['<PAD>']\n",
    "        self.word_embedding = nn.Embedding(num_embeddings=self.word_count, \\\n",
    "                                           embedding_dim=self.embedding_dim, \\\n",
    "                                           padding_idx=padding_idx)\n",
    "\n",
    "        self.lstm = nn.LSTM(input_size=self.embedding_dim, \\\n",
    "                            hidden_size=self.lstm_hidden_units, \\\n",
    "                            num_layers=self.lstm_layers, \\\n",
    "                            dropout = self.dropout, \\\n",
    "                            bidirectional = True, \\\n",
    "                            batch_first=True)\n",
    "\n",
    "        self.linear = nn.Linear(self.lstm_hidden_units*2, self.output_dim)\n",
    "\n",
    "        \n",
    "    def init_hidden(self, batch_size):\n",
    "        w = torch.Tensor(self.lstm_layers*2, batch_size, self.lstm_hidden_units)\n",
    "        h0 = nn.init.xavier_uniform_(w, gain=nn.init.calculate_gain('relu'))\n",
    "        \n",
    "        w = torch.Tensor(self.lstm_layers*2, batch_size, self.lstm_hidden_units)\n",
    "        c0 = nn.init.xavier_uniform_(w, gain=nn.init.calculate_gain('relu'))\n",
    "\n",
    "        return (h0, c0)\n",
    "\n",
    "    def forward(self, sentences, sen_lengths):\n",
    "        batch_size, seq_len = sentences.size()\n",
    "    \n",
    "        self.hidden = self.init_hidden(batch_size)\n",
    "\n",
    "        sentences = self.word_embedding(sentences)\n",
    "        sentences = torch.nn.utils.rnn.pack_padded_sequence(sentences, sen_lengths, batch_first=True)\n",
    "        lstm_output, _ = self.lstm(sentences, self.hidden)\n",
    "\n",
    "        lstm_output, _ = torch.nn.utils.rnn.pad_packed_sequence(lstm_output, total_length=seq_len, batch_first=True)\n",
    "\n",
    "        lstm_output = lstm_output.contiguous()\n",
    "        lstm_output = lstm_output.view(-1, lstm_output.shape[2])\n",
    "\n",
    "        output = self.linear(lstm_output)\n",
    "        return F.log_softmax(output, dim=1)\n",
    "\n",
    "model_biLSTM = SlotTagger_BiLSTM(word_to_ix, tag_to_ix)\n",
    "loss_function = nn.NLLLoss(ignore_index=0)\n",
    "optimizer_biLSTM = optim.SGD(model_biLSTM.parameters(), lr=0.1)"
   ]
  },
  {
   "cell_type": "code",
   "execution_count": 15,
   "metadata": {},
   "outputs": [
    {
     "name": "stdout",
     "output_type": "stream",
     "text": [
      "4.80202054977417\n",
      "4.809537887573242\n"
     ]
    }
   ],
   "source": [
    "# Function to calculate validation loss\n",
    "\n",
    "def val_loss(df_val, model):\n",
    "    \n",
    "    validation_loss = 0.0\n",
    "    for val in df_val:\n",
    "        val.sort_values([\"Query_len\"], ascending=False, inplace=True)\n",
    "\n",
    "        tag_scores = model(torch.tensor(val.Query), val.Query_len.tolist())\n",
    "        targets = torch.tensor(val.Tags).view(-1)\n",
    "\n",
    "        loss = loss_function(tag_scores, targets)\n",
    "        validation_loss += loss.item()\n",
    "    \n",
    "    return validation_loss/float(len(df_val))\n",
    "\n",
    "print (val_loss(df_val, model_LSTM))\n",
    "print (val_loss(df_val, model_biLSTM))"
   ]
  },
  {
   "cell_type": "code",
   "execution_count": 56,
   "metadata": {},
   "outputs": [],
   "source": [
    "# Predict the tags for a list of sentences\n",
    "\n",
    "def predict(sentences, ids_to_tags, model):\n",
    "    sentences_split = [prepare_sequence(sen.strip().split(\" \"), word_to_ix) for sen in sentences]\n",
    "    sentences_padded = pad_sequences(sentences_split, maxlen=48, padding='post')\n",
    "    sentences_len = [len(sen) for sen in sentences_split]\n",
    "    \n",
    "    tag_scores = model(torch.tensor(sentences_padded, dtype=torch.long), sentences_len)\n",
    "    tag_scores = tag_scores.view(len(sentences), 48, -1)\n",
    "    \n",
    "    output = []\n",
    "    for idoc, sen in enumerate(sentences):\n",
    "        sentence_tags = []\n",
    "        value, tag_indexes = tag_scores[idoc].max(1)\n",
    "        for iword, word in enumerate(sen.split()):\n",
    "            if word == \"EOS\":\n",
    "                break\n",
    "#                 sentence_tags.append(word)\n",
    "            else:\n",
    "                sentence_tags.append(ids_to_tags[tag_indexes[iword].item()])\n",
    "   \n",
    "        #print (\"Sentence --> {0}\".format(sen))\n",
    "        #print (\"Tags --> {0}\".format(\" \".join(sentence_tags)))\n",
    "        \n",
    "        output.append(sentence_tags)\n",
    "    \n",
    "    return output\n",
    "\n",
    "predicted_slots = predict([\"BOS on april first i need a ticket from tacoma to san jose departing before 7 am EOS\"], \\\n",
    "                          ix_to_tag, \\\n",
    "                          model_biLSTM)"
   ]
  },
  {
   "cell_type": "markdown",
   "metadata": {},
   "source": [
    "## Training Models - Unidirectional LSTM"
   ]
  },
  {
   "cell_type": "code",
   "execution_count": 18,
   "metadata": {},
   "outputs": [
    {
     "name": "stdout",
     "output_type": "stream",
     "text": [
      "Epoch 0 -- Training_Loss 1.5853 -- Validation_Loss 1.6275\n",
      "Epoch 10 -- Training_Loss 1.4223 -- Validation_Loss 1.4568\n",
      "Epoch 20 -- Training_Loss 0.8871 -- Validation_Loss 0.9227\n",
      "Epoch 30 -- Training_Loss 0.6887 -- Validation_Loss 0.7160\n",
      "Epoch 40 -- Training_Loss 0.5684 -- Validation_Loss 0.5913\n",
      "Epoch 50 -- Training_Loss 0.4724 -- Validation_Loss 0.4931\n",
      "Epoch 60 -- Training_Loss 0.3948 -- Validation_Loss 0.4129\n",
      "Epoch 70 -- Training_Loss 0.3347 -- Validation_Loss 0.3515\n",
      "Epoch 80 -- Training_Loss 0.2894 -- Validation_Loss 0.3075\n",
      "Epoch 90 -- Training_Loss 0.2527 -- Validation_Loss 0.2717\n",
      "Epoch 100 -- Training_Loss 0.2249 -- Validation_Loss 0.2433\n",
      "Epoch 110 -- Training_Loss 0.2021 -- Validation_Loss 0.2176\n",
      "Epoch 120 -- Training_Loss 0.1826 -- Validation_Loss 0.1993\n",
      "Epoch 130 -- Training_Loss 0.1668 -- Validation_Loss 0.1814\n",
      "Epoch 140 -- Training_Loss 0.1549 -- Validation_Loss 0.1675\n",
      "Epoch 150 -- Training_Loss 0.1418 -- Validation_Loss 0.1563\n",
      "Epoch 160 -- Training_Loss 0.1309 -- Validation_Loss 0.1453\n",
      "Epoch 170 -- Training_Loss 0.1227 -- Validation_Loss 0.1362\n",
      "Epoch 180 -- Training_Loss 0.1136 -- Validation_Loss 0.1449\n",
      "Epoch 190 -- Training_Loss 0.1066 -- Validation_Loss 0.1205\n"
     ]
    }
   ],
   "source": [
    "training_loss, validation_loss = [], []\n",
    "\n",
    "for epoch in range(200):\n",
    "    epoch_loss = 0.0\n",
    "    model_LSTM = model_LSTM.train()\n",
    "    for batch in df_train:\n",
    "        batch.sort_values([\"Query_len\"], ascending=False, inplace=True)\n",
    "        model_LSTM.zero_grad()\n",
    "\n",
    "        tag_scores = model_LSTM(torch.tensor(batch.Query), batch.Query_len.tolist())\n",
    "        targets = torch.tensor(batch.Tags).view(-1)\n",
    "        loss = loss_function(tag_scores, targets)\n",
    "        \n",
    "        epoch_loss += loss.item()\n",
    "        \n",
    "        loss.backward()\n",
    "        optimizer_LSTM.step()\n",
    "    \n",
    "    training_loss.append(epoch_loss/float(len(df_train)))\n",
    "    model_LSTM = model_LSTM.eval()\n",
    "    validation_loss.append(val_loss(df_val, model_LSTM))\n",
    "#     if (epoch>2) and (training_loss[-2] - training_loss[-1]) / training_loss[-2] < 0.05:\n",
    "#         break\n",
    "    if epoch%10 == 0:\n",
    "        print (\"Epoch {0} -- Training_Loss {1:.4f} -- Validation_Loss {2:.4f}\".format(epoch, training_loss[-1], validation_loss[-1]))"
   ]
  },
  {
   "cell_type": "code",
   "execution_count": 22,
   "metadata": {},
   "outputs": [
    {
     "data": {
      "text/plain": [
       "Text(0,0.5,'LOSS')"
      ]
     },
     "execution_count": 22,
     "metadata": {},
     "output_type": "execute_result"
    },
    {
     "data": {
      "image/png": "[encoded data removed]",
      "text/plain": [
       "<Figure size 432x288 with 1 Axes>"
      ]
     },
     "metadata": {
      "needs_background": "light"
     },
     "output_type": "display_data"
    }
   ],
   "source": [
    "plt.plot(range(200), training_loss)\n",
    "plt.plot(range(200), validation_loss)\n",
    "plt.legend(['Training_loss', 'Validation_loss'], loc='upper left')\n",
    "plt.xlabel(\"EPOCHS\")\n",
    "plt.ylabel(\"LOSS\")"
   ]
  },
  {
   "cell_type": "code",
   "execution_count": 23,
   "metadata": {},
   "outputs": [
    {
     "name": "stdout",
     "output_type": "stream",
     "text": [
      "Sentence --> BOS on april first i need a ticket from tacoma to san jose departing before 7 am EOS\n",
      "Tags --> O O B-depart_date.month_name B-depart_date.day_number O O O O O B-fromloc.city_name O B-toloc.city_name I-toloc.city_name O B-depart_time.time_relative B-depart_time.time I-arrive_time.time\n",
      "Sentence --> BOS what ground transportation is available from dallas fort worth airport to downtown dallas EOS\n",
      "Tags --> O O O O O O O B-fromloc.city_name I-fromloc.city_name I-fromloc.city_name I-fromloc.airport_name O O B-toloc.city_name\n",
      "Sentence --> BOS what does not sa mean EOS\n",
      "Tags --> O O O B-airline_code B-fare_basis_code O\n"
     ]
    }
   ],
   "source": [
    "sentences = [\"BOS on april first i need a ticket from tacoma to san jose departing before 7 am EOS\", \\\n",
    "             \"BOS what ground transportation is available from dallas fort worth airport to downtown dallas EOS\", \\\n",
    "             \"BOS what does not sa mean EOS\"]\n",
    "\n",
    "model_LSTM = model_LSTM.eval()\n",
    "predicted_slots = predict(sentences, ix_to_tag, model_LSTM)"
   ]
  },
  {
   "cell_type": "markdown",
   "metadata": {},
   "source": [
    "## Check performance on test data"
   ]
  },
  {
   "cell_type": "code",
   "execution_count": 51,
   "metadata": {},
   "outputs": [
    {
     "name": "stderr",
     "output_type": "stream",
     "text": [
      "/home/tushar/python36_env/lib/python3.6/site-packages/sklearn/metrics/classification.py:1145: UndefinedMetricWarning: Recall and F-score are ill-defined and being set to 0.0 in labels with no true samples.\n",
      "  'recall', 'true', average, warn_for)\n"
     ]
    },
    {
     "name": "stdout",
     "output_type": "stream",
     "text": [
      "                              precision    recall  f1-score   support\n",
      "\n",
      "             B-aircraft_code       0.25      0.03      0.05        33\n",
      "              B-airline_code       0.68      0.82      0.75        34\n",
      "              B-airline_name       0.92      0.92      0.92       101\n",
      "              B-airport_code       0.00      0.00      0.00         9\n",
      "              B-airport_name       0.33      0.33      0.33        21\n",
      " B-arrive_date.date_relative       0.00      0.00      0.00         2\n",
      "      B-arrive_date.day_name       0.29      0.91      0.44        11\n",
      "    B-arrive_date.day_number       0.36      0.83      0.50         6\n",
      "    B-arrive_date.month_name       0.45      0.83      0.59         6\n",
      "      B-arrive_time.end_time       0.83      0.62      0.71         8\n",
      " B-arrive_time.period_of_day       0.31      0.83      0.45         6\n",
      "    B-arrive_time.start_time       0.88      0.88      0.88         8\n",
      "          B-arrive_time.time       0.72      0.85      0.78        34\n",
      " B-arrive_time.time_relative       0.66      0.81      0.72        31\n",
      "             B-booking_class       0.00      0.00      0.00         1\n",
      "                 B-city_name       0.81      0.51      0.62        57\n",
      "                B-class_type       0.88      0.96      0.92        24\n",
      "               B-compartment       0.00      0.00      0.00         1\n",
      "                   B-connect       0.00      0.00      0.00         6\n",
      "             B-cost_relative       0.73      0.95      0.82        37\n",
      "                  B-day_name       0.00      0.00      0.00         2\n",
      "                 B-days_code       0.00      0.00      0.00         1\n",
      " B-depart_date.date_relative       0.56      0.29      0.38        17\n",
      "      B-depart_date.day_name       0.98      0.90      0.94       212\n",
      "    B-depart_date.day_number       0.96      0.82      0.88        55\n",
      "    B-depart_date.month_name       0.96      0.79      0.86        56\n",
      "B-depart_date.today_relative       0.75      0.33      0.46         9\n",
      "          B-depart_date.year       1.00      0.33      0.50         3\n",
      "      B-depart_time.end_time       1.00      0.33      0.50         3\n",
      "    B-depart_time.period_mod       0.00      0.00      0.00         5\n",
      " B-depart_time.period_of_day       0.91      0.83      0.87       130\n",
      "    B-depart_time.start_time       0.67      0.67      0.67         3\n",
      "          B-depart_time.time       0.82      0.88      0.85        57\n",
      " B-depart_time.time_relative       0.95      0.86      0.90        65\n",
      "                   B-economy       0.00      0.00      0.00         6\n",
      "               B-fare_amount       0.00      0.00      0.00         2\n",
      "           B-fare_basis_code       0.56      0.82      0.67        17\n",
      "                    B-flight       0.00      0.00      0.00         1\n",
      "               B-flight_days       0.25      0.10      0.14        10\n",
      "                B-flight_mod       0.84      0.67      0.74        24\n",
      "             B-flight_number       0.54      0.64      0.58        11\n",
      "               B-flight_stop       0.63      0.90      0.75        21\n",
      "               B-flight_time       0.00      0.00      0.00         1\n",
      "      B-fromloc.airport_code       0.00      0.00      0.00         5\n",
      "      B-fromloc.airport_name       0.07      0.08      0.08        12\n",
      "         B-fromloc.city_name       0.97      0.97      0.97       704\n",
      "        B-fromloc.state_code       1.00      0.96      0.98        23\n",
      "        B-fromloc.state_name       1.00      0.53      0.69        17\n",
      "                      B-meal       1.00      0.06      0.12        16\n",
      "                 B-meal_code       0.00      0.00      0.00         1\n",
      "          B-meal_description       1.00      0.20      0.33        10\n",
      "                       B-mod       0.00      0.00      0.00         2\n",
      "                        B-or       0.25      1.00      0.40         3\n",
      "             B-period_of_day       0.00      0.00      0.00         4\n",
      "          B-restriction_code       1.00      0.25      0.40         4\n",
      " B-return_date.date_relative       0.00      0.00      0.00         3\n",
      "      B-return_date.day_name       0.00      0.00      0.00         2\n",
      "                B-round_trip       0.96      0.96      0.96        73\n",
      "                B-state_code       1.00      1.00      1.00         1\n",
      "                B-state_name       0.00      0.00      0.00         9\n",
      "      B-stoploc.airport_code       0.00      0.00      0.00         1\n",
      "         B-stoploc.city_name       0.95      0.90      0.92        20\n",
      "        B-toloc.airport_code       0.50      0.25      0.33         4\n",
      "        B-toloc.airport_name       0.33      0.33      0.33         3\n",
      "           B-toloc.city_name       0.96      0.99      0.98       716\n",
      "        B-toloc.country_name       0.00      0.00      0.00         1\n",
      "          B-toloc.state_code       0.94      0.94      0.94        18\n",
      "          B-toloc.state_name       0.58      0.64      0.61        28\n",
      "            B-transport_type       0.70      0.70      0.70        10\n",
      "              I-airline_name       0.87      0.89      0.88        65\n",
      "              I-airport_name       0.54      0.52      0.53        29\n",
      "    I-arrive_date.day_number       0.00      0.00      0.00         0\n",
      "      I-arrive_time.end_time       0.33      0.38      0.35         8\n",
      "    I-arrive_time.start_time       0.00      0.00      0.00         1\n",
      "          I-arrive_time.time       0.67      0.89      0.77        35\n",
      " I-arrive_time.time_relative       0.00      0.00      0.00         4\n",
      "                 I-city_name       0.75      0.30      0.43        30\n",
      "                I-class_type       0.94      1.00      0.97        17\n",
      "             I-cost_relative       0.33      0.67      0.44         3\n",
      "    I-depart_date.day_number       0.87      0.87      0.87        15\n",
      "      I-depart_time.end_time       0.50      0.33      0.40         3\n",
      " I-depart_time.period_of_day       0.00      0.00      0.00         1\n",
      "    I-depart_time.start_time       0.00      0.00      0.00         1\n",
      "          I-depart_time.time       0.90      0.88      0.89        52\n",
      " I-depart_time.time_relative       0.00      0.00      0.00         1\n",
      "               I-fare_amount       0.50      1.00      0.67         2\n",
      "                I-flight_mod       0.00      0.00      0.00         6\n",
      "             I-flight_number       0.00      0.00      0.00         1\n",
      "               I-flight_time       0.00      0.00      0.00         1\n",
      "      I-fromloc.airport_name       0.48      0.67      0.56        15\n",
      "         I-fromloc.city_name       0.90      0.94      0.92       177\n",
      "        I-fromloc.state_name       1.00      1.00      1.00         1\n",
      "          I-restriction_code       1.00      0.67      0.80         3\n",
      " I-return_date.date_relative       0.00      0.00      0.00         3\n",
      "                I-round_trip       0.99      1.00      0.99        71\n",
      "                I-state_name       0.00      0.00      0.00         1\n",
      "         I-stoploc.city_name       0.75      0.60      0.67        10\n",
      "        I-toloc.airport_name       0.14      0.33      0.20         3\n",
      "           I-toloc.city_name       0.91      0.98      0.95       265\n",
      "          I-toloc.state_name       1.00      1.00      1.00         1\n",
      "            I-transport_type       0.00      0.00      0.00         1\n",
      "                           O       0.98      0.99      0.99      6394\n",
      "\n",
      "                   micro avg       0.95      0.95      0.95     10057\n",
      "                   macro avg       0.49      0.47      0.45     10057\n",
      "                weighted avg       0.94      0.95      0.94     10057\n",
      "\n"
     ]
    }
   ],
   "source": [
    "predicted_tags = []\n",
    "for index, dp in df_test.iterrows():\n",
    "    predicted_tags.append(predict_single(dp.Query,ix_to_tag, model_LSTM))\n",
    "    \n",
    "report = flat_classification_report(df_test.Tags.tolist(), predicted_tags)\n",
    "print (report)"
   ]
  },
  {
   "cell_type": "markdown",
   "metadata": {},
   "source": [
    "## Training Models - Bidirectional LSTM"
   ]
  },
  {
   "cell_type": "code",
   "execution_count": 46,
   "metadata": {},
   "outputs": [
    {
     "name": "stdout",
     "output_type": "stream",
     "text": [
      "Epoch 0 -- Training_Loss 1.5272 -- Validation_Loss 1.5635\n",
      "Epoch 10 -- Training_Loss 1.2319 -- Validation_Loss 1.2587\n",
      "Epoch 20 -- Training_Loss 0.8212 -- Validation_Loss 0.8570\n",
      "Epoch 30 -- Training_Loss 0.6275 -- Validation_Loss 0.6576\n",
      "Epoch 40 -- Training_Loss 0.4730 -- Validation_Loss 0.4940\n",
      "Epoch 50 -- Training_Loss 0.3678 -- Validation_Loss 0.3848\n",
      "Epoch 60 -- Training_Loss 0.2903 -- Validation_Loss 0.3023\n",
      "Epoch 70 -- Training_Loss 0.2335 -- Validation_Loss 0.2435\n",
      "Epoch 80 -- Training_Loss 0.1918 -- Validation_Loss 0.2039\n",
      "Epoch 90 -- Training_Loss 0.1612 -- Validation_Loss 0.1707\n",
      "Epoch 100 -- Training_Loss 0.1375 -- Validation_Loss 0.1528\n",
      "Epoch 110 -- Training_Loss 0.1168 -- Validation_Loss 0.1271\n",
      "Epoch 120 -- Training_Loss 0.1012 -- Validation_Loss 0.1102\n",
      "Epoch 130 -- Training_Loss 0.0880 -- Validation_Loss 0.0967\n",
      "Epoch 140 -- Training_Loss 0.0777 -- Validation_Loss 0.0864\n",
      "Epoch 150 -- Training_Loss 0.0681 -- Validation_Loss 0.0784\n",
      "Epoch 160 -- Training_Loss 0.0606 -- Validation_Loss 0.0699\n",
      "Epoch 170 -- Training_Loss 0.0546 -- Validation_Loss 0.0635\n",
      "Epoch 180 -- Training_Loss 0.0484 -- Validation_Loss 0.0582\n",
      "Epoch 190 -- Training_Loss 0.0434 -- Validation_Loss 0.0520\n"
     ]
    }
   ],
   "source": [
    "training_loss, validation_loss = [], []\n",
    "\n",
    "for epoch in range(200):\n",
    "    epoch_loss = 0.0\n",
    "    model_biLSTM = model_biLSTM.train()\n",
    "    for batch in df_train:\n",
    "        batch.sort_values([\"Query_len\"], ascending=False, inplace=True)\n",
    "        model_biLSTM.zero_grad()\n",
    "\n",
    "        tag_scores = model_biLSTM(torch.tensor(batch.Query), batch.Query_len.tolist())\n",
    "        targets = torch.tensor(batch.Tags).view(-1)\n",
    "        loss = loss_function(tag_scores, targets)\n",
    "        \n",
    "        epoch_loss += loss.item()\n",
    "        \n",
    "        loss.backward()\n",
    "        optimizer_biLSTM.step()\n",
    "    \n",
    "    training_loss.append(epoch_loss/float(len(df_train)))\n",
    "    model_biLSTM = model_biLSTM.eval()\n",
    "    validation_loss.append(val_loss(df_val, model_biLSTM))\n",
    "#     if (epoch>2) and (training_loss[-2] - training_loss[-1]) / training_loss[-2] < 0.1:\n",
    "#         break\n",
    "    if epoch%10 == 0:\n",
    "        print (\"Epoch {0} -- Training_Loss {1:.4f} -- Validation_Loss {2:.4f}\".format(epoch, training_loss[-1], validation_loss[-1]))"
   ]
  },
  {
   "cell_type": "code",
   "execution_count": 47,
   "metadata": {},
   "outputs": [
    {
     "data": {
      "text/plain": [
       "Text(0,0.5,'LOSS')"
      ]
     },
     "execution_count": 47,
     "metadata": {},
     "output_type": "execute_result"
    },
    {
     "data": {
      "image/png": "[encoded data removed]",
      "text/plain": [
       "<Figure size 432x288 with 1 Axes>"
      ]
     },
     "metadata": {
      "needs_background": "light"
     },
     "output_type": "display_data"
    }
   ],
   "source": [
    "plt.plot(range(200), training_loss)\n",
    "plt.plot(range(200), validation_loss)\n",
    "plt.legend(['Training_loss', 'Validation_loss'], loc='upper left')\n",
    "plt.xlabel(\"EPOCHS\")\n",
    "plt.ylabel(\"LOSS\")"
   ]
  },
  {
   "cell_type": "code",
   "execution_count": 48,
   "metadata": {},
   "outputs": [
    {
     "name": "stdout",
     "output_type": "stream",
     "text": [
      "Sentence --> BOS on april first i need a ticket from tacoma to san jose departing before 7 am EOS\n",
      "Tags --> O O B-depart_date.month_name B-depart_date.day_number O O O O O B-fromloc.city_name O B-toloc.city_name I-toloc.city_name O B-depart_time.time_relative B-depart_time.time I-depart_time.time\n",
      "Sentence --> BOS what ground transportation is available from dallas fort worth airport to downtown dallas EOS\n",
      "Tags --> O O O O O O O B-fromloc.airport_name I-fromloc.airport_name I-fromloc.airport_name I-fromloc.airport_name O O B-toloc.city_name\n",
      "Sentence --> BOS what does not sa mean EOS\n",
      "Tags --> O O O B-airline_code O O\n"
     ]
    }
   ],
   "source": [
    "sentences = [\"BOS on april first i need a ticket from tacoma to san jose departing before 7 am EOS\", \\\n",
    "             \"BOS what ground transportation is available from dallas fort worth airport to downtown dallas EOS\", \\\n",
    "             \"BOS what does not sa mean EOS\"]\n",
    "\n",
    "model_biLSTM = model_biLSTM.eval()\n",
    "predicted_slots = predict(sentences, ix_to_tag, model_biLSTM)"
   ]
  },
  {
   "cell_type": "markdown",
   "metadata": {},
   "source": [
    "## Compare performance on test data"
   ]
  },
  {
   "cell_type": "code",
   "execution_count": 49,
   "metadata": {},
   "outputs": [
    {
     "name": "stdout",
     "output_type": "stream",
     "text": [
      "                              precision    recall  f1-score   support\n",
      "\n",
      "             B-aircraft_code       1.00      0.18      0.31        33\n",
      "              B-airline_code       0.79      1.00      0.88        34\n",
      "              B-airline_name       0.99      0.94      0.96       101\n",
      "              B-airport_code       0.57      0.44      0.50         9\n",
      "              B-airport_name       0.75      0.29      0.41        21\n",
      " B-arrive_date.date_relative       0.00      0.00      0.00         2\n",
      "      B-arrive_date.day_name       0.73      0.73      0.73        11\n",
      "    B-arrive_date.day_number       0.62      0.83      0.71         6\n",
      "    B-arrive_date.month_name       0.67      0.67      0.67         6\n",
      "      B-arrive_time.end_time       1.00      1.00      1.00         8\n",
      " B-arrive_time.period_of_day       0.71      0.83      0.77         6\n",
      "    B-arrive_time.start_time       1.00      1.00      1.00         8\n",
      "          B-arrive_time.time       0.97      0.88      0.92        34\n",
      " B-arrive_time.time_relative       0.90      0.87      0.89        31\n",
      "             B-booking_class       0.00      0.00      0.00         1\n",
      "                 B-city_name       0.73      0.56      0.63        57\n",
      "                B-class_type       1.00      1.00      1.00        24\n",
      "               B-compartment       0.00      0.00      0.00         1\n",
      "                   B-connect       0.67      0.67      0.67         6\n",
      "             B-cost_relative       1.00      0.97      0.99        37\n",
      "                  B-day_name       1.00      0.50      0.67         2\n",
      "                 B-days_code       0.00      0.00      0.00         1\n",
      " B-depart_date.date_relative       0.81      1.00      0.89        17\n",
      "      B-depart_date.day_name       0.98      0.96      0.97       212\n",
      "    B-depart_date.day_number       0.93      0.95      0.94        55\n",
      "    B-depart_date.month_name       0.98      0.95      0.96        56\n",
      "B-depart_date.today_relative       0.88      0.78      0.82         9\n",
      "          B-depart_date.year       1.00      0.33      0.50         3\n",
      "      B-depart_time.end_time       1.00      0.67      0.80         3\n",
      "    B-depart_time.period_mod       0.43      0.60      0.50         5\n",
      " B-depart_time.period_of_day       0.90      0.92      0.91       130\n",
      "    B-depart_time.start_time       1.00      0.33      0.50         3\n",
      "          B-depart_time.time       0.82      0.96      0.89        57\n",
      " B-depart_time.time_relative       0.97      0.95      0.96        65\n",
      "                   B-economy       0.00      0.00      0.00         6\n",
      "               B-fare_amount       0.67      1.00      0.80         2\n",
      "           B-fare_basis_code       0.94      0.88      0.91        17\n",
      "                    B-flight       0.00      0.00      0.00         1\n",
      "               B-flight_days       1.00      0.50      0.67        10\n",
      "                B-flight_mod       0.95      0.83      0.89        24\n",
      "             B-flight_number       0.77      0.91      0.83        11\n",
      "               B-flight_stop       0.88      1.00      0.93        21\n",
      "               B-flight_time       0.33      1.00      0.50         1\n",
      "      B-fromloc.airport_code       0.00      0.00      0.00         5\n",
      "      B-fromloc.airport_name       0.41      0.75      0.53        12\n",
      "         B-fromloc.city_name       0.97      0.99      0.98       704\n",
      "        B-fromloc.state_code       1.00      1.00      1.00        23\n",
      "        B-fromloc.state_name       1.00      0.71      0.83        17\n",
      "                      B-meal       0.67      0.12      0.21        16\n",
      "                 B-meal_code       0.00      0.00      0.00         1\n",
      "          B-meal_description       0.71      0.50      0.59        10\n",
      "                       B-mod       0.00      0.00      0.00         2\n",
      "                        B-or       0.50      1.00      0.67         3\n",
      "             B-period_of_day       0.00      0.00      0.00         4\n",
      "          B-restriction_code       0.80      1.00      0.89         4\n",
      " B-return_date.date_relative       0.33      0.33      0.33         3\n",
      "      B-return_date.day_name       0.00      0.00      0.00         2\n",
      "                B-round_trip       0.99      0.99      0.99        73\n",
      "                B-state_code       1.00      1.00      1.00         1\n",
      "                B-state_name       0.00      0.00      0.00         9\n",
      "      B-stoploc.airport_code       0.00      0.00      0.00         1\n",
      "         B-stoploc.city_name       0.81      0.85      0.83        20\n",
      "        B-toloc.airport_code       0.00      0.00      0.00         4\n",
      "        B-toloc.airport_name       0.20      0.33      0.25         3\n",
      "           B-toloc.city_name       0.96      0.99      0.97       716\n",
      "        B-toloc.country_name       0.00      0.00      0.00         1\n",
      "          B-toloc.state_code       0.95      1.00      0.97        18\n",
      "          B-toloc.state_name       0.78      0.64      0.71        28\n",
      "            B-transport_type       0.50      0.90      0.64        10\n",
      "              I-airline_name       0.91      0.97      0.94        65\n",
      "              I-airport_name       0.85      0.38      0.52        29\n",
      "      I-arrive_time.end_time       1.00      1.00      1.00         8\n",
      "    I-arrive_time.start_time       1.00      1.00      1.00         1\n",
      "          I-arrive_time.time       0.97      0.89      0.93        35\n",
      " I-arrive_time.time_relative       0.00      0.00      0.00         4\n",
      "                 I-city_name       0.88      0.47      0.61        30\n",
      "                I-class_type       1.00      1.00      1.00        17\n",
      "             I-cost_relative       0.50      0.67      0.57         3\n",
      "    I-depart_date.day_number       0.94      1.00      0.97        15\n",
      "      I-depart_time.end_time       1.00      0.67      0.80         3\n",
      " I-depart_time.period_of_day       0.00      0.00      0.00         1\n",
      "    I-depart_time.start_time       1.00      1.00      1.00         1\n",
      "          I-depart_time.time       0.89      0.96      0.93        52\n",
      " I-depart_time.time_relative       0.00      0.00      0.00         1\n",
      "               I-fare_amount       1.00      1.00      1.00         2\n",
      "                I-flight_mod       0.00      0.00      0.00         6\n",
      "             I-flight_number       0.00      0.00      0.00         1\n",
      "               I-flight_time       1.00      1.00      1.00         1\n",
      "      I-fromloc.airport_name       0.48      1.00      0.65        15\n",
      "         I-fromloc.city_name       0.95      0.99      0.97       177\n",
      "        I-fromloc.state_name       1.00      1.00      1.00         1\n",
      "          I-restriction_code       1.00      1.00      1.00         3\n",
      " I-return_date.date_relative       0.00      0.00      0.00         3\n",
      "                I-round_trip       1.00      0.99      0.99        71\n",
      "                I-state_name       0.00      0.00      0.00         1\n",
      "         I-stoploc.city_name       0.78      0.70      0.74        10\n",
      "        I-toloc.airport_name       0.43      1.00      0.60         3\n",
      "           I-toloc.city_name       0.94      1.00      0.97       265\n",
      "          I-toloc.state_name       1.00      1.00      1.00         1\n",
      "            I-transport_type       0.00      0.00      0.00         1\n",
      "                           O       0.99      1.00      0.99      6394\n",
      "\n",
      "                   micro avg       0.97      0.97      0.97     10057\n",
      "                   macro avg       0.65      0.63      0.62     10057\n",
      "                weighted avg       0.96      0.97      0.96     10057\n",
      "\n"
     ]
    }
   ],
   "source": [
    "predicted_tags = []\n",
    "for index, dp in df_test.iterrows():\n",
    "    predicted_tags.append(predict_single(dp.Query,ix_to_tag, model_biLSTM))\n",
    "    \n",
    "report = flat_classification_report(df_test.Tags.tolist(), predicted_tags)\n",
    "print (report)"
   ]
  },
  {
   "cell_type": "markdown",
   "metadata": {},
   "source": [
    "# Diagnose ERROR on test data"
   ]
  },
  {
   "cell_type": "code",
   "execution_count": 53,
   "metadata": {},
   "outputs": [],
   "source": [
    "def diagnose(df, ix_to_tag, model):\n",
    "#     df[\"Query\"] = [\" \".join(sen) for sen in df.Query.tolist()]\n",
    "#     df[\"Tags\"] = [\" \".join(tag) for tag in df.Tags.tolist()]\n",
    "    \n",
    "    extact_matches = 0\n",
    "    not_extact_matches = 0\n",
    "    \n",
    "    sentence, predicted_tag, actual_tag = [], [], []\n",
    "    for index, dp in df.iterrows():\n",
    "        predicted = predict([\" \".join(dp.Query)], ix_to_tag, model)[0]\n",
    "        if check_macthes(predicted, dp.Tags):\n",
    "            extact_matches += 1\n",
    "        else:\n",
    "            not_extact_matches += 1\n",
    "            sentence.append(\" \".join(dp.Query))\n",
    "            predicted_tag.append(predicted)\n",
    "            actual_tag.append(\" \".join(dp.Tags))\n",
    "    \n",
    "    df_diagnose = pd.DataFrame({\"Sentence\": sentence, \"Actul_Tag\": actual_tag, \"Predicted_Tag\": predicted_tag})\n",
    "    \n",
    "    return df_diagnose, extact_matches, not_extact_matches\n",
    "            \n",
    "        \n",
    "def check_macthes(predicted, actual):\n",
    "    match = True\n",
    "#     print (predicted)\n",
    "#     print (actual)\n",
    "    for pred, act in zip(predicted, actual):\n",
    "        if pred == \"BOS\" or pred == \"EOS\":\n",
    "            pass\n",
    "        elif pred != act:\n",
    "            match = False\n",
    "            break\n",
    "        else:\n",
    "            pass\n",
    "    \n",
    "    return match"
   ]
  },
  {
   "cell_type": "code",
   "execution_count": 66,
   "metadata": {},
   "outputs": [
    {
     "name": "stdout",
     "output_type": "stream",
     "text": [
      "Sentences count where all slots were mathced : -  668\n",
      "Sentences count where all slots were not exact matched : - 225\n"
     ]
    }
   ],
   "source": [
    "df_diagnose, extact_matches, not_extact_matches = diagnose(df_test, ix_to_tag, model_biLSTM)\n",
    "\n",
    "df_diagnose.to_csv(\"Diagnose.csv\")\n",
    "print (\"Sentences count where all slots were mathced : - \", extact_matches)\n",
    "print (\"Sentences count where all slots were not exact matched : -\", not_extact_matches)"
   ]
  }
 ],
 "metadata": {
  "kernelspec": {
   "display_name": "Python 3",
   "language": "python",
   "name": "python3"
  },
  "language_info": {
   "codemirror_mode": {
    "name": "ipython",
    "version": 3
   },
   "file_extension": ".py",
   "mimetype": "text/x-python",
   "name": "python",
   "nbconvert_exporter": "python",
   "pygments_lexer": "ipython3",
   "version": "3.6.4"
  }
 },
 "nbformat": 4,
 "nbformat_minor": 2
}
